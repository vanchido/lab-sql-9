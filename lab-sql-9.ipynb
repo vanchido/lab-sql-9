{
 "cells": [
  {
   "cell_type": "code",
   "execution_count": 16,
   "id": "35312107",
   "metadata": {},
   "outputs": [
    {
     "name": "stdout",
     "output_type": "stream",
     "text": [
      "Defaulting to user installation because normal site-packages is not writeable\n",
      "Requirement already satisfied: mysql-connector-python in c:\\programdata\\anaconda3\\lib\\site-packages (8.0.30)\n",
      "Requirement already satisfied: protobuf<=3.20.1,>=3.11.0 in c:\\programdata\\anaconda3\\lib\\site-packages (from mysql-connector-python) (3.19.1)\n",
      "Note: you may need to restart the kernel to use updated packages.\n"
     ]
    }
   ],
   "source": [
    "pip install mysql-connector-python"
   ]
  },
  {
   "cell_type": "code",
   "execution_count": 57,
   "id": "8f83575b",
   "metadata": {},
   "outputs": [
    {
     "name": "stdout",
     "output_type": "stream",
     "text": [
      "········\n"
     ]
    }
   ],
   "source": [
    "import mysql.connector\n",
    "from mysql.connector import Error\n",
    "import pandas as pd\n",
    "import getpass\n",
    "password = getpass.getpass()"
   ]
  },
  {
   "cell_type": "code",
   "execution_count": 58,
   "id": "d1f4920f",
   "metadata": {},
   "outputs": [
    {
     "name": "stdout",
     "output_type": "stream",
     "text": [
      "Connected to MySQL Server version  8.0.30\n",
      "You're connected to database:  ('sakila',)\n"
     ]
    }
   ],
   "source": [
    "try:\n",
    "    connection = mysql.connector.connect(host='localhost',\n",
    "                                    database='sakila',\n",
    "                                    user='root',\n",
    "                                    password=password)\n",
    "    if connection.is_connected():\n",
    "        db_Info = connection.get_server_info()\n",
    "        print(\"Connected to MySQL Server version \", db_Info)\n",
    "        cursor = connection.cursor()\n",
    "        cursor.execute(\"select database();\")\n",
    "        record = cursor.fetchone()\n",
    "        print(\"You're connected to database: \", record)\n",
    "\n",
    "except Error as e:\n",
    "    print(\"Error while connecting to MySQL\", e)\n",
    "        \n",
    "cursor = connection.cursor()"
   ]
  },
  {
   "cell_type": "code",
   "execution_count": 52,
   "id": "7f3c461c",
   "metadata": {},
   "outputs": [],
   "source": [
    "# copying rental to rentals_may\n",
    "\n",
    "sql_create_table = \"\"\"\n",
    "USE sakila;\n",
    "DROP TABLE IF EXISTS rentals_may;\n",
    "CREATE TABLE rentals_may\n",
    "AS SELECT * FROM rental;\n",
    "\"\"\"\n",
    "\n",
    "for result in cursor.execute(sql_create_table, multi=True):\n",
    "    pass"
   ]
  },
  {
   "cell_type": "code",
   "execution_count": 50,
   "id": "9ab65e2d",
   "metadata": {},
   "outputs": [],
   "source": [
    "# filtering values only for the month of May\n",
    "\n",
    "sql_filter = \"\"\"\n",
    "ALTER TABLE rentals_may ADD COLUMN rental_month VARCHAR(3);\n",
    "UPDATE rentals_may SET rental_month = substring(rental_date, 6, 2);\n",
    "DELETE FROM rentals_may where rental_month != '05';\n",
    "\"\"\"\n",
    "\n",
    "for result in cursor.execute(sql_filter, multi=True):\n",
    "    pass"
   ]
  },
  {
   "cell_type": "code",
   "execution_count": null,
   "id": "18769c12",
   "metadata": {},
   "outputs": [],
   "source": [
    "# copying rental to rentals_june\n",
    "\n",
    "sql_create_table = \"\"\"\n",
    "USE sakila;\n",
    "DROP TABLE IF EXISTS rentals_june;\n",
    "CREATE TABLE rentals_june\n",
    "AS SELECT * FROM rental;\n",
    "\"\"\"\n",
    "\n",
    "for result in cursor.execute(sql_create_table, multi=True):\n",
    "    pass"
   ]
  },
  {
   "cell_type": "code",
   "execution_count": 56,
   "id": "da3a83df",
   "metadata": {},
   "outputs": [],
   "source": [
    "# filtering values only for the month of June\n",
    "\n",
    "sql_filter = \"\"\"\n",
    "ALTER TABLE rentals_june ADD COLUMN rental_month VARCHAR(3);\n",
    "UPDATE rentals_june SET rental_month = substring(rental_date, 6, 2);\n",
    "DELETE FROM rentals_june where rental_month != '06';\n",
    "\"\"\"\n",
    "\n",
    "for result in cursor.execute(sql_filter, multi=True):\n",
    "    pass"
   ]
  },
  {
   "cell_type": "code",
   "execution_count": null,
   "id": "f36fad3e",
   "metadata": {},
   "outputs": [],
   "source": []
  }
 ],
 "metadata": {
  "kernelspec": {
   "display_name": "Python 3 (ipykernel)",
   "language": "python",
   "name": "python3"
  },
  "language_info": {
   "codemirror_mode": {
    "name": "ipython",
    "version": 3
   },
   "file_extension": ".py",
   "mimetype": "text/x-python",
   "name": "python",
   "nbconvert_exporter": "python",
   "pygments_lexer": "ipython3",
   "version": "3.9.12"
  }
 },
 "nbformat": 4,
 "nbformat_minor": 5
}
